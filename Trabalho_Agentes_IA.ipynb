{
  "cells": [
    {
      "cell_type": "markdown",
      "metadata": {
        "id": "9HJIRVKjzgBG"
      },
      "source": [
        "Agente Parcialmente Observável"
      ]
    },
    {
      "cell_type": "code",
      "execution_count": 5,
      "metadata": {
        "id": "oibThmpQ3HnT"
      },
      "outputs": [],
      "source": [
        "import random   #Biblioteca para gerar aleatório"
      ]
    },
    {
      "cell_type": "markdown",
      "metadata": {
        "id": "vAP-O1Ic3RQU"
      },
      "source": [
        "Cenário"
      ]
    },
    {
      "cell_type": "code",
      "execution_count": 6,
      "metadata": {
        "id": "pc9RMvlk3SpT"
      },
      "outputs": [],
      "source": [
        "class Ambiente:\n",
        "  def __init__(self):\n",
        "    estados = ['Limpa', 'Suja'] #Estados possíveis para uma sala\n",
        "    self.salaA = random.choice(estados) #Aleatoriza a Sala A como Limpa ou Suja inicialmente\n",
        "    self.salaB = random.choice(estados) #Aleatoriza a Sala B como Limpa ou Suja inicialmente"
      ]
    },
    {
      "cell_type": "markdown",
      "metadata": {
        "id": "c7ss0S2s3zPN"
      },
      "source": [
        "Agente Parcialmente Observável"
      ]
    },
    {
      "cell_type": "code",
      "execution_count": 7,
      "metadata": {
        "id": "S0elnIlI31EV"
      },
      "outputs": [],
      "source": [
        "class Agente:\n",
        "  def __init__(self):\n",
        "    salas = ['A', 'B'] #Salas\n",
        "    self.salaAtual = random.choice(salas) #Sala de Spawn\n",
        "    self.desempenho = 0 #Desempenho do Agente\n",
        "\n",
        "  def noOp(self): #Sem operação\n",
        "    print(\"Parado\")\n",
        "\n",
        "  def Scan(self, Ambiente): #Analisa se a sala atual está Suja, se sim, a limpa, se não, vai para outra sala.\n",
        "\n",
        "    if self.salaAtual == 'A': #Verifica se está na sala A\n",
        "      if Ambiente.salaA == 'Suja':\n",
        "        #print('Limpando sala A')\n",
        "        Ambiente.salaA = 'Limpa'\n",
        "        self.desempenho += 10\n",
        "      else:\n",
        "        self.Direita() #Se a sala A está limpa, vai para B\n",
        "\n",
        "    if self.salaAtual == 'B': #Verifica se está na sala B\n",
        "      if Ambiente.salaB == 'Suja':\n",
        "        #print('Limpando sala B')\n",
        "        Ambiente.salaB = 'Limpa'\n",
        "        self.desempenho += 10\n",
        "      else:\n",
        "        self.Esquerda() #Se a sala B está limpa, vai para A\n",
        "\n",
        "\n",
        "  def Direita(self): #Vai para sala da Direita\n",
        "    if self.salaAtual == 'A':\n",
        "      #print('A -> B')\n",
        "      self.salaAtual = 'B'\n",
        "\n",
        "  def Esquerda(self): #Vai para sala à Esquerda\n",
        "    if self.salaAtual == 'B':\n",
        "      #print('A <- B')\n",
        "      self.salaAtual = 'A'"
      ]
    },
    {
      "cell_type": "markdown",
      "metadata": {
        "id": "PR5eoBYx669u"
      },
      "source": [
        "Ambiente de Testes"
      ]
    },
    {
      "cell_type": "code",
      "execution_count": 8,
      "metadata": {
        "colab": {
          "base_uri": "https://localhost:8080/",
          "height": 0
        },
        "id": "ZhniWyod69LE",
        "outputId": "6cc4fcbe-4333-4ec0-9bf2-86992accce50"
      },
      "outputs": [
        {
          "name": "stdout",
          "output_type": "stream",
          "text": [
            "Sala A começou como: Limpa\n",
            "Sala B começou como: Suja\n",
            "Agente começou na sala: B\n",
            "510\n"
          ]
        }
      ],
      "source": [
        "#Inicializa o Cenário\n",
        "cenario = Ambiente()\n",
        "print('Sala A começou como: ' + cenario.salaA)\n",
        "print('Sala B começou como: ' + cenario.salaB)\n",
        "\n",
        "#Inicializa o Agente\n",
        "agente = Agente()\n",
        "print('Agente começou na sala: ' + agente.salaAtual)\n",
        "\n",
        "#Inicia os testes\n",
        "for i in range(1, 100):\n",
        "  agente.Scan(cenario)\n",
        "  poeira = random.randint(0, 3) #Se cair 0, gera poeira na sala A, se cair 2 gera na sala B\n",
        "  if poeira == 0:\n",
        "    cenario.salaA = 'Suja'\n",
        "    #print('Poeira gerada na sala A')\n",
        "  if poeira == 2:\n",
        "    cenario.salaB = 'Suja'\n",
        "    #print('Poeira gerada na sala B')\n",
        "\n",
        "print(agente.desempenho)\n",
        "\n"
      ]
    }
  ],
  "metadata": {
    "colab": {
      "provenance": []
    },
    "kernelspec": {
      "display_name": "Python 3",
      "name": "python3"
    },
    "language_info": {
      "codemirror_mode": {
        "name": "ipython",
        "version": 3
      },
      "file_extension": ".py",
      "mimetype": "text/x-python",
      "name": "python",
      "nbconvert_exporter": "python",
      "pygments_lexer": "ipython3",
      "version": "3.11.1"
    }
  },
  "nbformat": 4,
  "nbformat_minor": 0
}
