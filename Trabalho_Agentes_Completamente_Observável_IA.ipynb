{
  "nbformat": 4,
  "nbformat_minor": 0,
  "metadata": {
    "colab": {
      "provenance": []
    },
    "kernelspec": {
      "name": "python3",
      "display_name": "Python 3"
    },
    "language_info": {
      "name": "python"
    }
  },
  "cells": [
    {
      "cell_type": "markdown",
      "source": [
        "Agente Completamente Observável"
      ],
      "metadata": {
        "id": "9HJIRVKjzgBG"
      }
    },
    {
      "cell_type": "code",
      "source": [
        "import random   #Biblioteca para gerar aleatório"
      ],
      "metadata": {
        "id": "oibThmpQ3HnT"
      },
      "execution_count": null,
      "outputs": []
    },
    {
      "cell_type": "markdown",
      "source": [
        "Cenário"
      ],
      "metadata": {
        "id": "vAP-O1Ic3RQU"
      }
    },
    {
      "cell_type": "code",
      "source": [
        "class Ambiente:\n",
        "  def __init__(self):\n",
        "    estados = ['Limpa', 'Suja'] #Estados possíveis para uma sala\n",
        "    self.salaA = random.choice(estados) #Aleatoriza a Sala A como Limpa ou Suja inicialmente\n",
        "    self.salaB = random.choice(estados) #Aleatoriza a Sala B como Limpa ou Suja inicialmente"
      ],
      "metadata": {
        "id": "pc9RMvlk3SpT"
      },
      "execution_count": null,
      "outputs": []
    },
    {
      "cell_type": "markdown",
      "source": [
        "Agente Parcialmente Observável"
      ],
      "metadata": {
        "id": "c7ss0S2s3zPN"
      }
    },
    {
      "cell_type": "code",
      "source": [
        "class Agente:\n",
        "  def __init__(self):\n",
        "    salas = ['A', 'B'] #Salas\n",
        "    self.salaAtual = random.choice(salas) #Sala de Spawn\n",
        "    self.desempenho = 0 #Desempenho do Agente\n",
        "\n",
        "  def noOp(self): #Sem operação\n",
        "    print(\"Parado\")\n",
        "\n",
        "  def Scan(self, Ambiente): #Analisa se a sala atual está Suja, se sim, a limpa, se não, verifica se a outra está suja.\n",
        "\n",
        "    if self.salaAtual == 'A': #Verifica se está na sala A\n",
        "      if Ambiente.salaA == 'Suja':\n",
        "        #print('Limpando sala A')\n",
        "        Ambiente.salaA = 'Limpa'\n",
        "        self.desempenho += 10\n",
        "      elif Ambiente.salaB == 'Suja':\n",
        "        self.Direita() #Se a sala A está limpa, vai para B\n",
        "      else:\n",
        "        self.noOp\n",
        "\n",
        "    if self.salaAtual == 'B': #Verifica se está na sala B\n",
        "      if Ambiente.salaB == 'Suja':\n",
        "        #print('Limpando sala B')\n",
        "        Ambiente.salaB = 'Limpa'\n",
        "        self.desempenho += 10\n",
        "      elif Ambiente.salaA == 'Suja':\n",
        "        self.Esquerda() #Se a sala A está limpa, vai para A\n",
        "      else:\n",
        "        self.noOp\n",
        "\n",
        "\n",
        "  def Direita(self): #Vai para sala da Direita\n",
        "    if self.salaAtual == 'A':\n",
        "      #print('A -> B')\n",
        "      self.salaAtual = 'B'\n",
        "\n",
        "  def Esquerda(self): #Vai para sala à Esquerda\n",
        "    if self.salaAtual == 'B':\n",
        "      #print('A <- B')\n",
        "      self.salaAtual = 'A'"
      ],
      "metadata": {
        "id": "S0elnIlI31EV"
      },
      "execution_count": null,
      "outputs": []
    },
    {
      "cell_type": "markdown",
      "source": [
        "Ambiente de Testes"
      ],
      "metadata": {
        "id": "PR5eoBYx669u"
      }
    },
    {
      "cell_type": "code",
      "source": [
        "#Inicializa o Cenário\n",
        "cenario = Ambiente()\n",
        "print('Sala A começou como: ' + cenario.salaA)\n",
        "print('Sala B começou como: ' + cenario.salaB)\n",
        "\n",
        "#Inicializa o Agente\n",
        "agente = Agente()\n",
        "print('Agente começou na sala: ' + agente.salaAtual)\n",
        "\n",
        "#Inicia os testes\n",
        "for i in range(1, 1000):\n",
        "  agente.Scan(cenario)\n",
        "  poeira = random.randint(0, 3) #Se cair 0, gera poeira na sala A, se cair 2 gera na sala B\n",
        "  if poeira == 0:\n",
        "    cenario.salaA = 'Suja'\n",
        "    #print('Poeira gerada na sala A')\n",
        "  if poeira == 2:\n",
        "    cenario.salaB = 'Suja'\n",
        "    #print('Poeira gerada na sala B')\n",
        "\n",
        "print(agente.desempenho)\n",
        "\n"
      ],
      "metadata": {
        "colab": {
          "base_uri": "https://localhost:8080/"
        },
        "id": "ZhniWyod69LE",
        "outputId": "9ac0e16a-1a2e-4700-fc7b-5a69a8031594"
      },
      "execution_count": null,
      "outputs": [
        {
          "output_type": "stream",
          "name": "stdout",
          "text": [
            "Sala A começou como: Limpa\n",
            "Sala B começou como: Suja\n",
            "Agente começou na sala: A\n",
            "4790\n"
          ]
        }
      ]
    }
  ]
}